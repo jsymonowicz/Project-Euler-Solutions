{
 "cells": [
  {
   "cell_type": "markdown",
   "id": "f25cec9a-6f7b-4ebd-a457-d5217f11c41c",
   "metadata": {},
   "source": [
    "# Truncatable Primes"
   ]
  },
  {
   "cell_type": "markdown",
   "id": "3dd1ec46-862b-411b-8ceb-15662b2f2f0f",
   "metadata": {},
   "source": [
    "## Problem 37"
   ]
  },
  {
   "cell_type": "markdown",
   "id": "f6ffc84f-c028-425c-881c-8010141edcfe",
   "metadata": {},
   "source": [
    "The number 3797 has an interesting property. Being prime itself, it is possible to continuously remove digits from left to right, and remain prime at each stage: 3797, 797, 97, and 7. Similarly we can work from right to left: 3797, 379, 37 and 3.\n",
    "\n",
    "Find the sum of the only eleven primes that are both truncatable from left to right and right to left.\n",
    "\n",
    "NOTE: 2, 3, 5, and 7 are not considered to be truncatable primes."
   ]
  },
  {
   "cell_type": "code",
   "execution_count": 112,
   "id": "d602596c-af7b-467f-98e3-1b929441c755",
   "metadata": {},
   "outputs": [],
   "source": [
    "# Function checking if number is prime\n",
    "\n",
    "import math\n",
    "\n",
    "def is_prime(n):\n",
    "    if n <= 1:\n",
    "        return False\n",
    "    sqrt_n = int(math.sqrt(n))\n",
    "    for divisor in range(2, sqrt_n + 1):\n",
    "        if n % divisor == 0:\n",
    "            return False\n",
    "    return True"
   ]
  },
  {
   "cell_type": "code",
   "execution_count": 113,
   "id": "4d349bb7-672b-48e1-a7c6-8ec137c3c04f",
   "metadata": {},
   "outputs": [],
   "source": [
    "# Function checking if number is truncatable\n",
    "\n",
    "def is_truncatable(n):\n",
    "    if n < 10:\n",
    "        return False\n",
    "    str_n = str(n)\n",
    "    len_n = len(str_n)\n",
    "    for i in range(len_n-1, 0, -1):\n",
    "        # Check if both parts are prime\n",
    "        if not is_prime(int(str_n[:i])) or not is_prime(int(str_n[-i:])):\n",
    "            return False\n",
    "    return True"
   ]
  },
  {
   "cell_type": "code",
   "execution_count": 116,
   "id": "ef6766b3-2c3f-424e-bade-02532ecd9ca3",
   "metadata": {},
   "outputs": [
    {
     "name": "stdout",
     "output_type": "stream",
     "text": [
      "The set of all truncatable numbers is: [23, 37, 53, 73, 313, 317, 373, 797, 3137, 3797, 739397].\n",
      "Its sum is: 748317.\n"
     ]
    }
   ],
   "source": [
    "truncatable = []\n",
    "# We start from 23 as 1-digit nums are not truncatable and 2-digit nums starting with 1 give us 1 which is not prime\n",
    "n = 23\n",
    "\n",
    "# The problem reveals that only 11 primes are both truncatable from left to right and right to left.\n",
    "while len(truncatable) < 11:\n",
    "    # Check if number is prime and truncatable\n",
    "    if is_prime(n) and is_truncatable(n):\n",
    "        truncatable.append(n)\n",
    "    # Skipping even nums because they are not prime\n",
    "    n += 2\n",
    "    \n",
    "# Print result\n",
    "print(f\"The set of all truncatable numbers is: {truncatable}.\")\n",
    "print(f\"Its sum is: {sum(truncatable)}.\")"
   ]
  },
  {
   "cell_type": "code",
   "execution_count": null,
   "id": "1dac5db0-12a8-48bc-b1ae-b1caa61a768b",
   "metadata": {},
   "outputs": [],
   "source": []
  }
 ],
 "metadata": {
  "kernelspec": {
   "display_name": "Python 3 (ipykernel)",
   "language": "python",
   "name": "python3"
  },
  "language_info": {
   "codemirror_mode": {
    "name": "ipython",
    "version": 3
   },
   "file_extension": ".py",
   "mimetype": "text/x-python",
   "name": "python",
   "nbconvert_exporter": "python",
   "pygments_lexer": "ipython3",
   "version": "3.11.9"
  }
 },
 "nbformat": 4,
 "nbformat_minor": 5
}
