{
 "cells": [
  {
   "cell_type": "markdown",
   "id": "7a977177-60f3-4d40-8f78-c99d9b5998f7",
   "metadata": {},
   "source": [
    "# Non-Abundant Sums\n",
    "## Problem 23"
   ]
  },
  {
   "cell_type": "markdown",
   "id": "f874beb6-d10b-438f-95b5-6e3c7e58e2a1",
   "metadata": {},
   "source": [
    "A perfect number is a number for which the sum of its proper divisors is exactly equal to the number. For example, the sum of the proper divisors of 28 would be 1 + 2 + 4 + 7 + 14 = 28, which means that 28 is a perfect number.\n",
    "\n",
    "A number $n$ is called deficient if the sum of its proper divisors is less than $n$ and it is called abundant if this sum exceeds $n$.\n",
    "\n",
    "As 12 is the smallest abundant number, 1 + 2 + 3 + 4 + 6 = 16, the smallest number that can be written as the sum of two abundant numbers is 24. By mathematical analysis, it can be shown that all integers greater than 28123 can be written as the sum of two abundant numbers. However, this upper limit cannot be reduced any further by analysis even though it is known that the greatest number that cannot be expressed as the sum of two abundant numbers is less than this limit.\n",
    "\n",
    "Find the sum of all the positive integers which cannot be written as the sum of two abundant numbers."
   ]
  },
  {
   "cell_type": "code",
   "execution_count": 1,
   "id": "22c86349-b1c0-46eb-9fa0-7c036afc62d4",
   "metadata": {},
   "outputs": [],
   "source": [
    "# Function for checking if number is abundant\n",
    "def is_abundant(n):\n",
    "    divisors_sum = 1\n",
    "    sqrt_n = int(n**0.5)\n",
    "    \n",
    "    for i in range(2, sqrt_n + 1):\n",
    "        if n % i == 0:\n",
    "            divisors_sum += i\n",
    "            if i != (n // i):  # Add both divisors unless they are the same\n",
    "                divisors_sum += n // i\n",
    "                \n",
    "    return divisors_sum > n"
   ]
  },
  {
   "cell_type": "code",
   "execution_count": 2,
   "id": "ddecb9d1-36ec-49ca-b555-9f496b461d1b",
   "metadata": {},
   "outputs": [],
   "source": [
    "# Collect abundant numbers in a sorted list for efficient iteration\n",
    "abundant_nums = [i for i in range(12, 28123) if is_abundant(i)]"
   ]
  },
  {
   "cell_type": "code",
   "execution_count": 3,
   "id": "6bdcafd3-4039-49e6-a162-87e21f0b6c41",
   "metadata": {},
   "outputs": [],
   "source": [
    "# Precompute which numbers can be written as the sum of two abundant numbers\n",
    "can_be_written_as_abundant_sum = [False] * (28123 + 1)\n",
    "\n",
    "for i in range(len(abundant_nums)):\n",
    "    for j in range(i, len(abundant_nums)):  # Start from 'i' to avoid duplicate pairs\n",
    "        sum_abundant = abundant_nums[i] + abundant_nums[j]\n",
    "        if sum_abundant > 28123:\n",
    "            break\n",
    "        can_be_written_as_abundant_sum[sum_abundant] = True"
   ]
  },
  {
   "cell_type": "code",
   "execution_count": 4,
   "id": "0d95f0ae-d5a1-4102-bb9a-75ef9dc9dbf4",
   "metadata": {
    "scrolled": true
   },
   "outputs": [],
   "source": [
    "# Calculate the sum of all numbers that cannot be written as the sum of two abundant numbers\n",
    "total_sum = sum(i for i in range(1, 28123 + 1) if not can_be_written_as_abundant_sum[i])"
   ]
  },
  {
   "cell_type": "code",
   "execution_count": 5,
   "id": "6e99b550-3947-4af3-a31a-7c1761ea01c1",
   "metadata": {},
   "outputs": [
    {
     "name": "stdout",
     "output_type": "stream",
     "text": [
      "4179871\n"
     ]
    }
   ],
   "source": [
    "# Return the solution\n",
    "print(total_sum)"
   ]
  }
 ],
 "metadata": {
  "kernelspec": {
   "display_name": "Python 3 (ipykernel)",
   "language": "python",
   "name": "python3"
  },
  "language_info": {
   "codemirror_mode": {
    "name": "ipython",
    "version": 3
   },
   "file_extension": ".py",
   "mimetype": "text/x-python",
   "name": "python",
   "nbconvert_exporter": "python",
   "pygments_lexer": "ipython3",
   "version": "3.11.9"
  }
 },
 "nbformat": 4,
 "nbformat_minor": 5
}
