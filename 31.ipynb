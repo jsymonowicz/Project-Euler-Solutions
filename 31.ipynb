{
 "cells": [
  {
   "cell_type": "markdown",
   "id": "a8bdde0d-9f86-4e08-a054-451526efdc0f",
   "metadata": {},
   "source": [
    "# Coin Sums"
   ]
  },
  {
   "cell_type": "markdown",
   "id": "906eb1c8-d972-4b9c-94ac-179cf73106c1",
   "metadata": {},
   "source": [
    "## Problem 31"
   ]
  },
  {
   "cell_type": "markdown",
   "id": "86ee99d2-dcad-4cd6-b829-6b8fd84bfafa",
   "metadata": {},
   "source": [
    "In the United Kingdom the currency is made up of pound (£) and pence (p). There are eight coins in general circulation:\n",
    "<center>1p, 2p, 5p, 10p, 20p, 50p, £1 (100p), and £2 (200p).</center>\n",
    "It is possible to make £2 in the following way:\n",
    "<center>1×£1 + 1×50p + 2×20p + 1×5p + 1×2p + 3×1p</center>\n",
    "How many different ways can £2 be made using any number of coins?"
   ]
  },
  {
   "cell_type": "code",
   "execution_count": 23,
   "id": "4fd59c3f-6685-4b34-8919-63a9f56bdff9",
   "metadata": {},
   "outputs": [],
   "source": [
    "def count_ways(coins, desired_sum):\n",
    "    # Initialize an array to store the number of ways to form each amount up to 'desired_sum'\n",
    "    ways = [0] * (desired_sum + 1)\n",
    "    ways[0] = 1  # There is 1 way to make 0 (using no coins)\n",
    "    \n",
    "    # Loop over each coin\n",
    "    for coin in coins:\n",
    "        # For each coin, update the number of ways to make each amount from 'coin' to 'desired'\n",
    "        for amount in range(coin, desired_sum + 1):\n",
    "            ways[amount] += ways[amount - coin] # Core idea\n",
    "    \n",
    "    return ways[desired_sum]"
   ]
  },
  {
   "cell_type": "code",
   "execution_count": 24,
   "id": "9330b60e-c4af-43b6-b5a8-d30ed68aeaca",
   "metadata": {},
   "outputs": [
    {
     "name": "stdout",
     "output_type": "stream",
     "text": [
      "Number of ways to make 200 using coins [1, 2, 5, 10, 20, 50, 100, 200] is: \u001b[1m73682\u001b[0m.\n"
     ]
    }
   ],
   "source": [
    "# List of available coins and the desired target\n",
    "coins = [1, 2, 5, 10, 20, 50, 100, 200]\n",
    "desired_sum = 200\n",
    "\n",
    "# Count the number of ways to form the desired amount\n",
    "num_of_ways = count_ways(coins, desired_sum)\n",
    "\n",
    "print(f\"Number of ways to make {desired_sum} using coins {coins} is: \\033[1m{num_of_ways}\\033[0m.\")"
   ]
  },
  {
   "cell_type": "code",
   "execution_count": null,
   "id": "9a57397a-74b0-4968-b7a5-36de93b6cd36",
   "metadata": {},
   "outputs": [],
   "source": []
  }
 ],
 "metadata": {
  "kernelspec": {
   "display_name": "Python 3 (ipykernel)",
   "language": "python",
   "name": "python3"
  },
  "language_info": {
   "codemirror_mode": {
    "name": "ipython",
    "version": 3
   },
   "file_extension": ".py",
   "mimetype": "text/x-python",
   "name": "python",
   "nbconvert_exporter": "python",
   "pygments_lexer": "ipython3",
   "version": "3.11.9"
  }
 },
 "nbformat": 4,
 "nbformat_minor": 5
}
