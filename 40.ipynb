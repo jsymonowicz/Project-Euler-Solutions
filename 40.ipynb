{
 "cells": [
  {
   "cell_type": "markdown",
   "id": "4374b862-d98f-4478-8ed8-9654937cc7ef",
   "metadata": {},
   "source": [
    "# Champernowne's Constant"
   ]
  },
  {
   "cell_type": "markdown",
   "id": "e922746a-208c-4602-846a-e676178a149b",
   "metadata": {},
   "source": [
    "## Problem 40"
   ]
  },
  {
   "cell_type": "markdown",
   "id": "bf98c2ce-27f4-44c8-a455-38250c06fa60",
   "metadata": {},
   "source": [
    "An irrational decimal fraction is created by concatenating the positive integers:\n",
    "<center>0.123456789101112131415161718192021...</center>\n",
    "It can be seen that the 12<sup>th</sup> digit of the fractional part is 1.\n",
    "If $d_{n}$ represents the n<sup>th</sup> digit of the fractional part, find the value of the following expression.\n",
    "$$d_{1}  \\times  d_{10}  \\times  d_{100} \\times d_{1000} \\times d_{10000} \\times d_{100000} \\times d_{1000000}$$"
   ]
  },
  {
   "cell_type": "code",
   "execution_count": 54,
   "id": "0d66beb9-50e3-4421-a988-01dfab334280",
   "metadata": {},
   "outputs": [],
   "source": [
    "# Create irrational decimal fraction; omit \"0.\" at the beginning\n",
    "irrational_fract = \".\"\n",
    "n = 1\n",
    "len_max = 1000000 + 1\n",
    "\n",
    "# Build up the irrational fraction string up to len_max\n",
    "while len(irrational_fract) < len_max:\n",
    "    irrational_fract += str(n)\n",
    "    n += 1"
   ]
  },
  {
   "cell_type": "code",
   "execution_count": 55,
   "id": "2c7d4ec5-64a8-4640-b08b-35f91e5631d0",
   "metadata": {},
   "outputs": [],
   "source": [
    "# Collect digits at positions 1, 10, 100, ... up to 1,000,000\n",
    "d_s = []\n",
    "d = 1\n",
    "while d < len_max:\n",
    "    d_n = int(irrational_fract[d])  # Accessing within bounds\n",
    "    d_s.append(d_n)\n",
    "    d *= 10"
   ]
  },
  {
   "cell_type": "code",
   "execution_count": 61,
   "id": "1c7233ad-6bbf-4db9-a6f0-9b9b3092012a",
   "metadata": {},
   "outputs": [
    {
     "name": "stdout",
     "output_type": "stream",
     "text": [
      "210\n"
     ]
    }
   ],
   "source": [
    "# Print the result\n",
    "import math\n",
    "d_n_product = math.prod(i for i in d_s)\n",
    "print(d_n_product)"
   ]
  },
  {
   "cell_type": "code",
   "execution_count": null,
   "id": "af302e6a-cfbc-483e-858b-69e7f9adb345",
   "metadata": {},
   "outputs": [],
   "source": []
  }
 ],
 "metadata": {
  "kernelspec": {
   "display_name": "Python 3 (ipykernel)",
   "language": "python",
   "name": "python3"
  },
  "language_info": {
   "codemirror_mode": {
    "name": "ipython",
    "version": 3
   },
   "file_extension": ".py",
   "mimetype": "text/x-python",
   "name": "python",
   "nbconvert_exporter": "python",
   "pygments_lexer": "ipython3",
   "version": "3.11.9"
  }
 },
 "nbformat": 4,
 "nbformat_minor": 5
}
