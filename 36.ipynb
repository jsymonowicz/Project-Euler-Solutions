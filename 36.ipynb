{
 "cells": [
  {
   "cell_type": "markdown",
   "id": "64ede697-eafe-4795-9857-4c20d01f46af",
   "metadata": {},
   "source": [
    "# Double-base Palindromes"
   ]
  },
  {
   "cell_type": "markdown",
   "id": "e9de38eb-c2f5-4c6a-82a7-177ed314a677",
   "metadata": {},
   "source": [
    "## Problem 36"
   ]
  },
  {
   "cell_type": "markdown",
   "id": "d630d154-40fb-49c9-b4cb-166a8a3207dc",
   "metadata": {},
   "source": [
    "The decimal number, 585 = 1001001001$_2$ (binary), is palindromic in both bases.\n",
    "\n",
    "Find the sum of all numbers, less than one million, which are palindromic in base 10 and base 2.\n",
    "\n",
    "(Please note that the palindromic number, in either base, may not include leading zeros.)"
   ]
  },
  {
   "cell_type": "code",
   "execution_count": 5,
   "id": "89bd9b2e-eb41-4242-9dee-f4347230bd86",
   "metadata": {},
   "outputs": [],
   "source": [
    "# Function checking if a number is palindromic\n",
    "def is_palindromic(n):\n",
    "    str_n = str(n)\n",
    "    return all(str_n[i] == str_n[-(i+1)] for i in range(len(str_n) // 2)) # Check only until half of the number"
   ]
  },
  {
   "cell_type": "code",
   "execution_count": 6,
   "id": "f009a4cb-f364-4f9f-8987-f0ff80a6a0af",
   "metadata": {},
   "outputs": [],
   "source": [
    "# Create a hash table with numbers and their corresponding binary versions\n",
    "upper_bound = 1000000\n",
    "binary_dict = {i: bin(i)[2:] for i in range(upper_bound)} # Convert to binary and strip the '0b' prefix"
   ]
  },
  {
   "cell_type": "code",
   "execution_count": 9,
   "id": "4aade24b-e834-4cdb-aeeb-c7afd71b3661",
   "metadata": {},
   "outputs": [
    {
     "name": "stdout",
     "output_type": "stream",
     "text": [
      "872187\n"
     ]
    }
   ],
   "source": [
    "# Find the sum of all numbers which are palindromic in base 10 and base 2.\n",
    "solution = sum(num for num in range(upper_bound) if is_palindromic(num) and is_palindromic(binary_dict[num]))\n",
    "\n",
    "# Print solution\n",
    "print(solution)"
   ]
  },
  {
   "cell_type": "code",
   "execution_count": 8,
   "id": "e7c3ea4a-2a08-4f7d-8eca-b77282c383bc",
   "metadata": {},
   "outputs": [],
   "source": [
    "# Alternatively to bin() function, I generated my own coverting numbers into binary form. It produces same binary_dict as above\n",
    "def int_to_binary(n):\n",
    "    if n == 0:\n",
    "        return \"0\"\n",
    "    \n",
    "    binary = []\n",
    "    while n > 0:\n",
    "        remainder = n % 2\n",
    "        binary.insert(0, str(remainder))  # Insert the remainder (0 or 1) as a string\n",
    "        n = n // 2  # Integer division by 2\n",
    "\n",
    "    return ''.join(binary)  # Join the list into a string\n",
    "\n",
    "# Generate a dictionary\n",
    "binary_dict = {i: int_to_binary(i) for i in range(upper_bound)}"
   ]
  },
  {
   "cell_type": "code",
   "execution_count": 15,
   "id": "8ba21f51-0bf7-4e3a-b9cc-88b6dd40924b",
   "metadata": {},
   "outputs": [
    {
     "name": "stdout",
     "output_type": "stream",
     "text": [
      "<class 'str'>\n"
     ]
    }
   ],
   "source": []
  }
 ],
 "metadata": {
  "kernelspec": {
   "display_name": "Python 3 (ipykernel)",
   "language": "python",
   "name": "python3"
  },
  "language_info": {
   "codemirror_mode": {
    "name": "ipython",
    "version": 3
   },
   "file_extension": ".py",
   "mimetype": "text/x-python",
   "name": "python",
   "nbconvert_exporter": "python",
   "pygments_lexer": "ipython3",
   "version": "3.11.9"
  }
 },
 "nbformat": 4,
 "nbformat_minor": 5
}
