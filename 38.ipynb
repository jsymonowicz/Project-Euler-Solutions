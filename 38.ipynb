{
 "cells": [
  {
   "cell_type": "markdown",
   "id": "19bb9fdd-f65e-4656-badf-307b0aff0a87",
   "metadata": {},
   "source": [
    "# Pandigital Multiples"
   ]
  },
  {
   "cell_type": "markdown",
   "id": "bbf8bad2-462a-4b63-9222-b022b9322842",
   "metadata": {},
   "source": [
    "## Problem 38"
   ]
  },
  {
   "cell_type": "markdown",
   "id": "62372c8e-eb85-4653-a49b-d229e73e1055",
   "metadata": {},
   "source": [
    "Take the number 192 and multiply it by each of 1, 2, and 3:\n",
    "<center>192 x 1 = 192</center>\n",
    "<center>192 x 2 = 384</center>\n",
    "<center>192 x 3 = 576</center>\n",
    "<br>\n",
    "By concatenating each product we get the 1 to 9 pandigital, 192384576. We will call 192384576 the concatenated product of 192 and (1, 2, 3).\n",
    "<br>\n",
    "The same can be achieved by starting with 9 and multiplying by 1, 2, 3, 4, and 5, giving the pandigital, 918273645, which is the concatenated product of 9 and (1, 2, 3, 4, 5).\n",
    "<br><br>\n",
    "\n",
    "**What is the largest 1 to 9 pandigital 9-digit number that can be formed as the concatenated product of an integer with (1, 2, ..., n) where $n > 1$?**"
   ]
  },
  {
   "cell_type": "code",
   "execution_count": 38,
   "id": "f37c396b-1124-4903-93b3-c9a45aa4bfe7",
   "metadata": {},
   "outputs": [],
   "source": [
    "# Function checking if a number is 9-digit pandigital\n",
    "def is_9_pandigital(num):\n",
    "    digits = str(num)\n",
    "    return len(digits) == 9 and set(digits) == set(\"123456789\")"
   ]
  },
  {
   "cell_type": "markdown",
   "id": "edc70f3d-3603-4d85-b802-1b81df7b56a4",
   "metadata": {},
   "source": [
    "We first need to establish max_num - the highest number to be miltiplied by (1, 2,..., n). Since n > 1, then we must have at least $str(num) + str(num \\cdot 2) < 987654321$. Therefore, num must have the max of 4 digits and we set max_num = 9999"
   ]
  },
  {
   "cell_type": "code",
   "execution_count": 39,
   "id": "08471266-dd60-4811-9020-ba0fc60e8602",
   "metadata": {},
   "outputs": [],
   "source": [
    "max_num = 9999"
   ]
  },
  {
   "cell_type": "code",
   "execution_count": 40,
   "id": "e9e77af5-bd4d-4faf-a99f-f4fe5e61c591",
   "metadata": {},
   "outputs": [
    {
     "name": "stdout",
     "output_type": "stream",
     "text": [
      "932718654\n"
     ]
    }
   ],
   "source": [
    "num = 1\n",
    "pandigital_nums = set()\n",
    "\n",
    "while num < max_num:\n",
    "    i = 1\n",
    "    my_char = \"\"\n",
    "    \n",
    "    # Concatenate multiples of num to form a 9-digit number\n",
    "    while len(my_char) < 9:\n",
    "        my_char += str(i * num)\n",
    "        i += 1\n",
    "    \n",
    "    # Check if we have exactly 9 digits  pandigital\n",
    "    if is_9_pandigital(int(my_char)):\n",
    "        pandigital_nums.add(int(my_char))  # Store as integer\n",
    "    \n",
    "    num += 1\n",
    "\n",
    "print(max(pandigital_nums))"
   ]
  },
  {
   "cell_type": "code",
   "execution_count": null,
   "id": "7df71ba0-8338-4b69-ad4c-347db911b9bf",
   "metadata": {},
   "outputs": [],
   "source": []
  }
 ],
 "metadata": {
  "kernelspec": {
   "display_name": "Python 3 (ipykernel)",
   "language": "python",
   "name": "python3"
  },
  "language_info": {
   "codemirror_mode": {
    "name": "ipython",
    "version": 3
   },
   "file_extension": ".py",
   "mimetype": "text/x-python",
   "name": "python",
   "nbconvert_exporter": "python",
   "pygments_lexer": "ipython3",
   "version": "3.11.9"
  }
 },
 "nbformat": 4,
 "nbformat_minor": 5
}
