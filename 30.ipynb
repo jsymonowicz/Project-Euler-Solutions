{
 "cells": [
  {
   "cell_type": "markdown",
   "id": "3b0583d4-f032-4de9-8886-21171d7e582b",
   "metadata": {},
   "source": [
    "# Digit Fifth Powers"
   ]
  },
  {
   "cell_type": "markdown",
   "id": "cba93607-b6d1-4c58-876e-a52771d17410",
   "metadata": {},
   "source": [
    "## Problem 30"
   ]
  },
  {
   "cell_type": "markdown",
   "id": "b892f275-b835-4ed0-beef-e30f78839841",
   "metadata": {},
   "source": [
    "**Task:** Find the sum of all the numbers that can be written as the sum of fifth powers of their digits."
   ]
  },
  {
   "cell_type": "markdown",
   "id": "f363fecb-baad-47c0-bb62-7a6d1c73451f",
   "metadata": {},
   "source": [
    "The upper limit for our search range is $6 \\times 9^{5} = 354294$, so the maximum 6-digit number that can be written as a sum a fifth powers, because $7 \\times 9^{5} = 413343$ which is still 6-digits"
   ]
  },
  {
   "cell_type": "code",
   "execution_count": 16,
   "id": "70cda9d9-ca49-4bc8-810b-4011c2ff642e",
   "metadata": {},
   "outputs": [],
   "source": [
    "upper_limit = 6 * (9 ** 5)"
   ]
  },
  {
   "cell_type": "code",
   "execution_count": 17,
   "id": "72eb032d-53ea-48b6-b1d0-765a3cd18f39",
   "metadata": {},
   "outputs": [],
   "source": [
    "# Precompute the 5th powers of digits 0 to 9\n",
    "fifth_powers = [i**5 for i in range(10)]"
   ]
  },
  {
   "cell_type": "code",
   "execution_count": 18,
   "id": "d3d0cfeb-7f7e-40fa-bf37-c3491528284b",
   "metadata": {},
   "outputs": [
    {
     "name": "stdout",
     "output_type": "stream",
     "text": [
      "All numbers that can be written as the sum of fifth powers of their digits are: {194979, 4151, 4150, 92727, 54748, 93084}.\n",
      "The sum of the numbers above is: \u001b[1m443839\u001b[0m.\n"
     ]
    }
   ],
   "source": [
    "sum_fifth_power_numbers = 0\n",
    "all_fifth_power_numbers = set()\n",
    "\n",
    "# Loop through all numbers from 2 to the upper limit\n",
    "for num in range(2, upper_limit):\n",
    "    # Calculate the sum of fifth powers of digits\n",
    "    power_sum = sum(fifth_powers[int(digit)] for digit in str(num))\n",
    "    \n",
    "    # Check if the sum of the powers equals the original number\n",
    "    if power_sum == num:\n",
    "        sum_fifth_power_numbers += num\n",
    "        all_fifth_power_numbers.add(num)\n",
    "        \n",
    "# Print the results\n",
    "print(f\"All numbers that can be written as the sum of fifth powers of their digits are: {all_fifth_power_numbers}.\")\n",
    "print(f\"The sum of the numbers above is: \\033[1m{sum_fifth_power_numbers}\\033[0m.\")"
   ]
  },
  {
   "cell_type": "code",
   "execution_count": null,
   "id": "cba67b8e-3217-4336-bf81-d629be01895d",
   "metadata": {},
   "outputs": [],
   "source": []
  }
 ],
 "metadata": {
  "kernelspec": {
   "display_name": "Python 3 (ipykernel)",
   "language": "python",
   "name": "python3"
  },
  "language_info": {
   "codemirror_mode": {
    "name": "ipython",
    "version": 3
   },
   "file_extension": ".py",
   "mimetype": "text/x-python",
   "name": "python",
   "nbconvert_exporter": "python",
   "pygments_lexer": "ipython3",
   "version": "3.11.9"
  }
 },
 "nbformat": 4,
 "nbformat_minor": 5
}
