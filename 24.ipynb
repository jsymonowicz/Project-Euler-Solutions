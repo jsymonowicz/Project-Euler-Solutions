{
 "cells": [
  {
   "cell_type": "markdown",
   "id": "df5de73c-0956-438f-abd7-bea23d313de9",
   "metadata": {},
   "source": [
    "# Lexicographic Permutations"
   ]
  },
  {
   "cell_type": "markdown",
   "id": "c39223af-0b61-4e14-bfed-038bf265503e",
   "metadata": {},
   "source": [
    "## Problem 24"
   ]
  },
  {
   "cell_type": "markdown",
   "id": "af189f7a-b4d6-4bf5-9410-d54330916d19",
   "metadata": {},
   "source": [
    "A permutation is an ordered arrangement of objects. For example, 3124 is one possible permutation of the digits 1, 2, 3 and 4. If all of the permutations are listed numerically or alphabetically, we call it lexicographic order. The lexicographic permutations of 0, 1 and 2 are:\n",
    "\n",
    "012   021   102   120   201   210\n",
    "\n",
    "What is the millionth lexicographic permutation of the digits 0, 1, 2, 3, 4, 5, 6, 7, 8 and 9?"
   ]
  },
  {
   "cell_type": "markdown",
   "id": "afb56d85-6cb9-46e2-b348-2c5069c54c51",
   "metadata": {},
   "source": [
    "**1. Using built-in tools**"
   ]
  },
  {
   "cell_type": "code",
   "execution_count": 5,
   "id": "951f38ca-9345-4030-8cb8-ea3e0ef42919",
   "metadata": {},
   "outputs": [],
   "source": [
    "import itertools"
   ]
  },
  {
   "cell_type": "code",
   "execution_count": 6,
   "id": "7c902631-1194-41ce-8547-6fe41b0193c9",
   "metadata": {},
   "outputs": [],
   "source": [
    "# Define numbers\n",
    "numbers = [0, 1, 2, 3, 4, 5, 6, 7, 8, 9]"
   ]
  },
  {
   "cell_type": "code",
   "execution_count": 7,
   "id": "57fece9d-161d-4cdb-9e56-d2a9a04914d8",
   "metadata": {},
   "outputs": [],
   "source": [
    "# Get all permutations\n",
    "permutations = list(itertools.permutations(numbers))\n",
    "# Sort\n",
    "permutations.sort()"
   ]
  },
  {
   "cell_type": "code",
   "execution_count": 8,
   "id": "ff0354cb-8de4-4bd6-a99c-1a70a4c43a24",
   "metadata": {},
   "outputs": [
    {
     "name": "stdout",
     "output_type": "stream",
     "text": [
      "2783915460\n"
     ]
    }
   ],
   "source": [
    "# Print millionth result\n",
    "result = permutations[999999]\n",
    "# Change to format accepted by Euler:\n",
    "joined_result = ''.join(map(str, result))\n",
    "print(joined_result)"
   ]
  },
  {
   "cell_type": "markdown",
   "id": "2b28f256-0717-4d11-91f9-b50f5db7eb5b",
   "metadata": {},
   "source": [
    "**2. Using self-made tools**"
   ]
  },
  {
   "cell_type": "code",
   "execution_count": 9,
   "id": "1d7156b6-066f-4caf-a47c-c3e80b8c5379",
   "metadata": {},
   "outputs": [],
   "source": [
    "numbers = list(range(10))  # List of 10 numbers [0, 1, 2, ..., 9]\n",
    "permutations = []\n",
    "\n",
    "# Recursive function to generate permutations\n",
    "def generate_permutations(current_permutation, remaining_numbers):\n",
    "    if not remaining_numbers:  # If no numbers are left, we have a complete permutation\n",
    "        permutations.append(''.join(map(str, current_permutation)))\n",
    "        return\n",
    "\n",
    "    # Iterate through the remaining numbers and build permutations\n",
    "    for i in range(len(remaining_numbers)):\n",
    "        next_number = remaining_numbers[i]\n",
    "        generate_permutations(current_permutation + [next_number], remaining_numbers[:i] + remaining_numbers[i+1:])"
   ]
  },
  {
   "cell_type": "code",
   "execution_count": 10,
   "id": "42d5cc58-a046-48ec-8ef1-c3bcba3e6065",
   "metadata": {},
   "outputs": [],
   "source": [
    "# Start generating permutations\n",
    "generate_permutations([], numbers)\n",
    "\n",
    "# Optionally sort the permutations\n",
    "permutations.sort()"
   ]
  },
  {
   "cell_type": "code",
   "execution_count": 11,
   "id": "85d80981-6c4d-4cf9-936e-9671f504aa51",
   "metadata": {},
   "outputs": [
    {
     "name": "stdout",
     "output_type": "stream",
     "text": [
      "2783915460\n"
     ]
    }
   ],
   "source": [
    "# Print millionth result\n",
    "result = permutations[999999]\n",
    "print(result)"
   ]
  },
  {
   "cell_type": "code",
   "execution_count": null,
   "id": "66b296a5-aed7-473a-9420-667c484f79eb",
   "metadata": {},
   "outputs": [],
   "source": []
  }
 ],
 "metadata": {
  "kernelspec": {
   "display_name": "Python 3 (ipykernel)",
   "language": "python",
   "name": "python3"
  },
  "language_info": {
   "codemirror_mode": {
    "name": "ipython",
    "version": 3
   },
   "file_extension": ".py",
   "mimetype": "text/x-python",
   "name": "python",
   "nbconvert_exporter": "python",
   "pygments_lexer": "ipython3",
   "version": "3.11.9"
  }
 },
 "nbformat": 4,
 "nbformat_minor": 5
}
