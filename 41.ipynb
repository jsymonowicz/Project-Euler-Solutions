{
 "cells": [
  {
   "cell_type": "markdown",
   "id": "3d623438-e244-4258-822e-53ff7479b5d9",
   "metadata": {},
   "source": [
    "# Pandigital Prime"
   ]
  },
  {
   "cell_type": "markdown",
   "id": "08cf6050-4d49-47e2-a302-95007485917c",
   "metadata": {},
   "source": [
    "## Problem 41"
   ]
  },
  {
   "cell_type": "markdown",
   "id": "61d92f2a-ca9d-4622-a737-f5e90a342253",
   "metadata": {},
   "source": [
    "We shall say that an n-digit number is pandigital if it makes use of all the digits 1 to n exactly once. For example, 2143 is a \n",
    "4-digit pandigital and is also prime.\n",
    "\n",
    "What is the largest n-digit pandigital prime that exists?"
   ]
  },
  {
   "cell_type": "code",
   "execution_count": 28,
   "id": "a42bb27b-05ca-4f59-8614-a56267131b9f",
   "metadata": {},
   "outputs": [],
   "source": [
    "import math"
   ]
  },
  {
   "cell_type": "code",
   "execution_count": 29,
   "id": "6fdf2047-a16f-43aa-9d67-a76e2531ea1b",
   "metadata": {},
   "outputs": [],
   "source": [
    "def is_prime(n):\n",
    "    if n <= 1:\n",
    "        return False\n",
    "    n_sqrt = int(math.sqrt(n)) + 1\n",
    "    for divisor in range(2, n_sqrt):\n",
    "        if n % divisor == 0:\n",
    "            return False\n",
    "    return True"
   ]
  },
  {
   "cell_type": "code",
   "execution_count": 30,
   "id": "adb686b0-4d53-42b8-b2d6-0aa9315aa49b",
   "metadata": {},
   "outputs": [],
   "source": [
    "def is_pandigital(n):\n",
    "    str_n = str(n)\n",
    "    digits = [i for i in range(1, len(str_n) + 1)]\n",
    "    n_digits = [int(n) for n in str_n]\n",
    "    n_digits.sort()\n",
    "    return n_digits == digits"
   ]
  },
  {
   "cell_type": "code",
   "execution_count": 31,
   "id": "48c61270-ea38-4ca4-aeba-bc2355762919",
   "metadata": {},
   "outputs": [],
   "source": [
    "# All 8-digit and 9-digit numbers aren’t prime by definition, so we start with the max 7-digit one\n",
    "max_digit_n = 7654321"
   ]
  },
  {
   "cell_type": "code",
   "execution_count": 32,
   "id": "b393a06d-65f6-4728-8cb3-f56179907623",
   "metadata": {},
   "outputs": [
    {
     "name": "stdout",
     "output_type": "stream",
     "text": [
      "7652413\n"
     ]
    }
   ],
   "source": [
    "# Loop checking if num is prime and pandigital starting with 7654321\n",
    "num = max_digit_n\n",
    "while True:\n",
    "    if is_pandigital(num) and is_prime(num):\n",
    "        break\n",
    "    num -= 1\n",
    "print(num)"
   ]
  },
  {
   "cell_type": "code",
   "execution_count": null,
   "id": "3de93484-4c83-4bdf-a7fd-eab960087b27",
   "metadata": {},
   "outputs": [],
   "source": []
  }
 ],
 "metadata": {
  "kernelspec": {
   "display_name": "Python 3 (ipykernel)",
   "language": "python",
   "name": "python3"
  },
  "language_info": {
   "codemirror_mode": {
    "name": "ipython",
    "version": 3
   },
   "file_extension": ".py",
   "mimetype": "text/x-python",
   "name": "python",
   "nbconvert_exporter": "python",
   "pygments_lexer": "ipython3",
   "version": "3.11.9"
  }
 },
 "nbformat": 4,
 "nbformat_minor": 5
}
