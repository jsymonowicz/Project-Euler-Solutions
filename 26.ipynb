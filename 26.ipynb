{
 "cells": [
  {
   "cell_type": "markdown",
   "id": "fb9b53e8-2b5f-4ec7-9526-4fd395dcda03",
   "metadata": {},
   "source": [
    "# Reciprocal Cycles"
   ]
  },
  {
   "cell_type": "markdown",
   "id": "39b123c7-c7c7-46c8-9314-49e11dfdd548",
   "metadata": {},
   "source": [
    "## Problem 26"
   ]
  },
  {
   "cell_type": "markdown",
   "id": "b315cb29-738d-4ce3-b210-c21e880d8d9f",
   "metadata": {},
   "source": [
    "A unit fraction contains **1** in the numerator. The decimal representation of the unit fractions with denominators **2** to **10** are given:\n",
    "$$\n",
    "\\frac{1}{2} = 0.5\n",
    "$$\n",
    "\n",
    "$$\n",
    "\\frac{1}{3} = 0.(3)\n",
    "$$\n",
    "\n",
    "$$\n",
    "\\frac{1}{4} = 0.25\n",
    "$$\n",
    "\n",
    "$$\n",
    "\\frac{1}{5} = 0.2\n",
    "$$\n",
    "\n",
    "$$\n",
    "\\frac{1}{6} = 0.1(6)\n",
    "$$\n",
    "\n",
    "$$\n",
    "\\frac{1}{7} = 0.(142857)\n",
    "$$\n",
    "\n",
    "$$\n",
    "\\frac{1}{8} = 0.125\n",
    "$$\n",
    "\n",
    "Find **d < 1000** for which **1 / d** contains the longest recurring cycle in its decimal fraction part."
   ]
  },
  {
   "cell_type": "markdown",
   "id": "3bdda2d1-8f13-4263-a4d2-a26bbbdb30d8",
   "metadata": {},
   "source": [
    "1. Define a function counting the length of recurring cycle."
   ]
  },
  {
   "cell_type": "code",
   "execution_count": 15,
   "id": "22d45eb1-49c0-4b1c-9e48-165c01f1347e",
   "metadata": {},
   "outputs": [],
   "source": [
    "def reciprocal_cycle_length(d):\n",
    "    # Dictionary to store remainders and their corresponding positions\n",
    "    remainders = {}\n",
    "    \n",
    "    # Initialize numerator and position\n",
    "    numerator = 1\n",
    "    position = 0\n",
    "    \n",
    "    while True:\n",
    "        # Find the remainder when dividing 1 by d\n",
    "        remainder = numerator % d\n",
    "        \n",
    "        # If the remainder is 0, there is no repeating cycle\n",
    "        if remainder == 0:\n",
    "            return 0\n",
    "        \n",
    "        # If the remainder is already in the dictionary, a cycle is detected\n",
    "        if remainder in remainders:\n",
    "            return (position, d)\n",
    "        \n",
    "        # Store the remainder with its corresponding position\n",
    "        remainders[remainder] = position\n",
    "        \n",
    "        # Update numerator and position for the next step\n",
    "        numerator = remainder * 10\n",
    "        position += 1"
   ]
  },
  {
   "cell_type": "markdown",
   "id": "ca991c17-a6af-42c4-9593-3525a251a3e0",
   "metadata": {},
   "source": [
    "2. Check which **1/d** produces the longest recurring cycle"
   ]
  },
  {
   "cell_type": "code",
   "execution_count": 16,
   "id": "340e2b44-cf27-4f94-9cca-2d370df01a64",
   "metadata": {},
   "outputs": [
    {
     "name": "stdout",
     "output_type": "stream",
     "text": [
      "1/983 produces longest longest recurring cycle of 982.\n"
     ]
    }
   ],
   "source": [
    "max_length = 0\n",
    "d = 0\n",
    "for n in range (1, 1000):\n",
    "    result = reciprocal_cycle_length(n)  \n",
    "    if result != 0 and result[0] > max_length:\n",
    "        max_length = result[0]\n",
    "        d = result[1]\n",
    "print(f\"1/{d} produces longest longest recurring cycle of {max_length}.\")"
   ]
  },
  {
   "cell_type": "code",
   "execution_count": null,
   "id": "3de8a736-037b-43d1-9726-4b6448685e3f",
   "metadata": {},
   "outputs": [],
   "source": []
  }
 ],
 "metadata": {
  "kernelspec": {
   "display_name": "Python 3 (ipykernel)",
   "language": "python",
   "name": "python3"
  },
  "language_info": {
   "codemirror_mode": {
    "name": "ipython",
    "version": 3
   },
   "file_extension": ".py",
   "mimetype": "text/x-python",
   "name": "python",
   "nbconvert_exporter": "python",
   "pygments_lexer": "ipython3",
   "version": "3.11.9"
  }
 },
 "nbformat": 4,
 "nbformat_minor": 5
}
