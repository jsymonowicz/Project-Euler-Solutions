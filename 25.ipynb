{
 "cells": [
  {
   "cell_type": "markdown",
   "id": "fd8291b4-2f9c-4cda-9a9e-edb92e62b6d1",
   "metadata": {},
   "source": [
    "# 1000-digit Fibonacci Number"
   ]
  },
  {
   "cell_type": "markdown",
   "id": "3e1fddb8-bcbe-43ac-b505-c770f820e465",
   "metadata": {},
   "source": [
    "## Problem 25"
   ]
  },
  {
   "attachments": {},
   "cell_type": "markdown",
   "id": "a91f5a03-eb60-46d1-8405-5af5543ada2d",
   "metadata": {},
   "source": [
    "The Fibonacci sequence is defined by the recurrence relation:\n",
    "$F_n = F_{n-1}+F_{n-2}$, where $F_1 = 1$ and $F_2 = 1$.\n",
    "\n",
    "The $12^{th}$  term $F_{12} = 144$\r\n",
    ", is the first term to contain three digs.\n",
    "\n",
    "What is the index of the first term in the Fibonacci sequence to contain 1000\n",
    " digits?s."
   ]
  },
  {
   "cell_type": "code",
   "execution_count": 13,
   "id": "03c522d8-67c9-423a-b46f-80d8e1744eab",
   "metadata": {},
   "outputs": [],
   "source": [
    "def Fibb_index(digits_num):\n",
    "    Fibb_nums = [1, 1]\n",
    "    term_length = 1\n",
    "    i = 1\n",
    "    while term_length < digits_num:\n",
    "        new_num = Fibb_nums[i] + Fibb_nums[i-1]\n",
    "        Fibb_nums.append(new_num)\n",
    "        term_length = len(str(new_num))\n",
    "        i += 1\n",
    "    return (i+1)"
   ]
  },
  {
   "cell_type": "code",
   "execution_count": 14,
   "id": "d4a94dec-aedb-4659-97d8-fe1c0526a058",
   "metadata": {},
   "outputs": [
    {
     "name": "stdout",
     "output_type": "stream",
     "text": [
      "4782\n"
     ]
    }
   ],
   "source": [
    "result = Fibb_index(1000)\n",
    "print(result)"
   ]
  },
  {
   "cell_type": "code",
   "execution_count": null,
   "id": "64364d3b-6957-4436-9e37-73032233dccd",
   "metadata": {},
   "outputs": [],
   "source": []
  }
 ],
 "metadata": {
  "kernelspec": {
   "display_name": "Python 3 (ipykernel)",
   "language": "python",
   "name": "python3"
  },
  "language_info": {
   "codemirror_mode": {
    "name": "ipython",
    "version": 3
   },
   "file_extension": ".py",
   "mimetype": "text/x-python",
   "name": "python",
   "nbconvert_exporter": "python",
   "pygments_lexer": "ipython3",
   "version": "3.11.9"
  }
 },
 "nbformat": 4,
 "nbformat_minor": 5
}
