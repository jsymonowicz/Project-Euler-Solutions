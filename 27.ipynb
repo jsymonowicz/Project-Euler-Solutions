{
 "cells": [
  {
   "cell_type": "markdown",
   "id": "5bee56fc-edda-41e2-a621-f88cd00eded5",
   "metadata": {},
   "source": [
    "# Quadratic Primes"
   ]
  },
  {
   "cell_type": "markdown",
   "id": "11459175-3738-44ca-bf01-2cd1f9c0aab5",
   "metadata": {},
   "source": [
    "## Problem 27"
   ]
  },
  {
   "cell_type": "markdown",
   "id": "78ca9aff-34c8-4288-8cda-5afd805cafdc",
   "metadata": {},
   "source": [
    "$$n^{2} + n + 41$$\n",
    "It turns out that the formula above will produce 41 primes for the consecutive integer values $0 \\le n \\le 39$.\n",
    "$$n^{2} -79n + 1601$$ produces 80 primes for the consecutive values $0 \\le n \\le 79$. The product of the coefficients, **-79** and **1601**, is **-126479**.\n",
    "\n",
    "Considering quadratics of the form $n^{2} + an + b$, where $|a| < 1000$ and $|b|\\le 1000$, find the product of the coefficients, $a$ and $b$, for the quadratic expression that produces the maximum number of primes for consecutive values of $n$, starting with $n=0$."
   ]
  },
  {
   "cell_type": "code",
   "execution_count": 17,
   "id": "0d57aa0c-87cf-4d54-ba92-ce0acc8c9eb6",
   "metadata": {},
   "outputs": [],
   "source": [
    "import math"
   ]
  },
  {
   "cell_type": "code",
   "execution_count": 18,
   "id": "84684494-fd01-41ce-902f-fe3f571ceed3",
   "metadata": {},
   "outputs": [],
   "source": [
    "# Function checking if a number is prime\n",
    "def is_prime(n):\n",
    "    sqrt_n = int(math.sqrt(n))\n",
    "    if n == 1:\n",
    "        return False\n",
    "    for i in range (2, sqrt_n + 1):\n",
    "        reminder = n % i\n",
    "        if reminder == 0:\n",
    "            return False\n",
    "    return True"
   ]
  },
  {
   "cell_type": "code",
   "execution_count": 20,
   "id": "13d35710-1758-46e7-ae67-851cafca6676",
   "metadata": {},
   "outputs": [],
   "source": [
    "# Function calculating quadratics\n",
    "def quadratics(n, a, b):\n",
    "    return int((n**2) + (a*n) + b)"
   ]
  },
  {
   "cell_type": "code",
   "execution_count": 21,
   "id": "69d527df-5b3e-4575-8586-8383c0e197e1",
   "metadata": {},
   "outputs": [],
   "source": [
    "# Define a,b range\n",
    "r = 1000"
   ]
  },
  {
   "cell_type": "code",
   "execution_count": 22,
   "id": "1bf268f3-b48f-477b-90a1-b2b2c6487960",
   "metadata": {},
   "outputs": [],
   "source": [
    "# Calculate prime numbers in a, b range\n",
    "prime_numbers = set()\n",
    "max = quadratics(r, r, r)\n",
    "for num in range(2, max):\n",
    "    if is_prime(num):\n",
    "        prime_numbers.add(num)"
   ]
  },
  {
   "cell_type": "code",
   "execution_count": 24,
   "id": "27d6a894-c38a-45c4-8696-c7d23a5669f0",
   "metadata": {},
   "outputs": [
    {
     "name": "stdout",
     "output_type": "stream",
     "text": [
      "The result is: -59231.\n"
     ]
    }
   ],
   "source": [
    "# Calculating max a*b\n",
    "max_num_of_primes = 0\n",
    "for a in range (-r, r):\n",
    "    for b in range (-r, r):\n",
    "        count = 0\n",
    "        for n in range (0, r):\n",
    "            quadratic = quadratics(n, a, b)\n",
    "            if quadratic not in prime_numbers:\n",
    "                break\n",
    "            count += 1\n",
    "        if count > max_num_of_primes:\n",
    "            max_num_of_primes = count\n",
    "            a_chosen = a\n",
    "            b_chosen = b\n",
    "print(f\"The result is: {a_chosen*b_chosen}.\")"
   ]
  },
  {
   "cell_type": "code",
   "execution_count": null,
   "id": "3284c5b0-74f4-41b2-978b-2c405691ba98",
   "metadata": {},
   "outputs": [],
   "source": []
  }
 ],
 "metadata": {
  "kernelspec": {
   "display_name": "Python 3 (ipykernel)",
   "language": "python",
   "name": "python3"
  },
  "language_info": {
   "codemirror_mode": {
    "name": "ipython",
    "version": 3
   },
   "file_extension": ".py",
   "mimetype": "text/x-python",
   "name": "python",
   "nbconvert_exporter": "python",
   "pygments_lexer": "ipython3",
   "version": "3.11.9"
  }
 },
 "nbformat": 4,
 "nbformat_minor": 5
}
