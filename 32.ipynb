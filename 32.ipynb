{
 "cells": [
  {
   "cell_type": "markdown",
   "id": "b99c649c-86e9-4f2b-b96b-f9f6577a2acc",
   "metadata": {},
   "source": [
    "# Pandigital Products"
   ]
  },
  {
   "cell_type": "markdown",
   "id": "9aa0fba6-37d7-4a3c-b2e8-ea3e9bedd2b6",
   "metadata": {},
   "source": [
    "## Problem 32"
   ]
  },
  {
   "cell_type": "markdown",
   "id": "2ddec501-d75d-4697-b9f2-655e5bdfb3a1",
   "metadata": {},
   "source": [
    "We shall say that an n-digit number is pandigital if it makes use of all the digits 1 to n exactly once.\n",
    "For example, the 5-digit number, **15234**, is 1 through 5 pandigital.\n",
    "\n",
    "The product **7254** is unusual, as the identity, **$39 \\times 186 = 7254$**, containing multiplicand, multiplier, and product is 1 through 9 pandigital.\n",
    "\n",
    "**Task:** Find the sum of all products whose multiplicand/multiplier/product identity can be written as a 1 through 9 pandigital.\n",
    "\n",
    "HINT: Some products can be obtained in more than one way so be sure to only include it once in your sum."
   ]
  },
  {
   "cell_type": "markdown",
   "id": "8928d040-a7b1-4609-8517-ec686041f623",
   "metadata": {},
   "source": [
    "### Solution"
   ]
  },
  {
   "cell_type": "markdown",
   "id": "863f22ad-0058-4bc4-aab0-b7221b8005e4",
   "metadata": {},
   "source": [
    "$96 \\times 87 = 8352$ is the highest product obtained by two 2-digit numbers. The equation contains 8 digits while we need to use all 9 digits. On the other hand, $135 \\times 246 = 33210$ is the minimum product of two 3-digit numbers, giving 10 digits in total. Please, see the code calculating these findings below."
   ]
  },
  {
   "cell_type": "markdown",
   "id": "0de268a0-bcb6-45da-80b0-b028d56ba367",
   "metadata": {},
   "source": [
    "**Checking boundry conditions**"
   ]
  },
  {
   "cell_type": "code",
   "execution_count": 102,
   "id": "241a5c84-1765-4b0a-9ebb-af566885fd74",
   "metadata": {},
   "outputs": [],
   "source": [
    "# Download library for creating permutations\n",
    "import itertools"
   ]
  },
  {
   "cell_type": "code",
   "execution_count": 110,
   "id": "63784438-499b-42b7-8b2f-363a4221c438",
   "metadata": {},
   "outputs": [],
   "source": [
    "# Function returning all pandigital combinations of input numbers with a given length of digits\n",
    "def pandigital_combinations(numbers, digits):\n",
    "    return [(\n",
    "        int(''.join(map(str, comb[:digits]))),  # Convert first 3 digits to an int\n",
    "        int(''.join(map(str, comb[digits:])))   # Convert second 3 digits to an int\n",
    "    )\n",
    "    for comb in itertools.permutations(numbers, len(numbers))\n",
    "    ]"
   ]
  },
  {
   "cell_type": "code",
   "execution_count": 111,
   "id": "08e640bd-920b-48be-947b-749275d6c613",
   "metadata": {},
   "outputs": [
    {
     "name": "stdout",
     "output_type": "stream",
     "text": [
      "Minimum product for two 3-digit numbers is 33210, for 135 and 246.\n"
     ]
    }
   ],
   "source": [
    "# Checking the minimum product of two 3-digit numbers\n",
    "\n",
    "# Define the set of numbers\n",
    "numbers = range(1, 7)\n",
    "product_3_digits = pandigital_combinations(numbers, 3)\n",
    "# Find the tuple (m1, m2) with the minimum product\n",
    "min_m1, min_m2 = min(product_3_digits, key=lambda x: x[0] * x[1])\n",
    "# Print the result\n",
    "print(f\"Minimum product for two 3-digit numbers is {min_m1 * min_m2}, for {min_m1} and {min_m2}.\")"
   ]
  },
  {
   "cell_type": "code",
   "execution_count": 112,
   "id": "2fd46b92-a746-42f9-b03a-07b922df3590",
   "metadata": {},
   "outputs": [
    {
     "name": "stdout",
     "output_type": "stream",
     "text": [
      "Maximum product of two 2-digit numbers is 8352, for 87 and 96.\n"
     ]
    }
   ],
   "source": [
    "# Checking the maximum product of two 2-digit numbers\n",
    "numbers = range(6, 10)\n",
    "product_2_digits = pandigital_combinations(numbers, 2)\n",
    "max_m1, max_m2 = max(product_2_digits, key=lambda x: x[0] * x[1])\n",
    "print(f\"Maximum product of two 2-digit numbers is {max_m1 * max_m2}, for {max_m1} and {max_m2}.\")"
   ]
  },
  {
   "cell_type": "markdown",
   "id": "00cbf426-7439-4587-8e30-eca323655e0a",
   "metadata": {},
   "source": [
    "Therefore, in search for products written as a 1 through 9 pandigital we should only consider multiplying:\n",
    "* 2-digit number by 3-digit number giving 4-digit product,\n",
    "* 1-digit number by 4-digit number giving 4-digit product."
   ]
  },
  {
   "cell_type": "markdown",
   "id": "64d869e6-2642-4e45-812b-1212274ad41b",
   "metadata": {},
   "source": [
    "**Finding the sum of all products whose multiplicand/multiplier/product identity can be written as a 1 through 9 pandigital.**"
   ]
  },
  {
   "cell_type": "code",
   "execution_count": 113,
   "id": "a719af20-17c5-47d7-9002-f7ec841288c5",
   "metadata": {},
   "outputs": [],
   "source": [
    "# Function checking if multiplicand/multiplier/product identity can be written as a 1 through 9 pandigital\n",
    "def is_pandigital(m1, m2, product):\n",
    "    # Create a string of all concatenated digits of m1, m2, and product\n",
    "    identity_str = f\"{m1}{m2}{product}\"\n",
    "    # Check if the identity is 9 digits long and uses all digits from 1 to 9 exactly once\n",
    "    return ''.join(sorted(identity_str)) == \"123456789\""
   ]
  },
  {
   "cell_type": "code",
   "execution_count": 114,
   "id": "aefa17b0-84eb-4325-9dc2-77b3e553e0b5",
   "metadata": {},
   "outputs": [
    {
     "name": "stdout",
     "output_type": "stream",
     "text": [
      "Sum of all unique products is 45228.\n"
     ]
    }
   ],
   "source": [
    "# Define digits 1 through 9\n",
    "digits = range(1, 10)\n",
    "\n",
    "# Store unique products\n",
    "unique_products = set()\n",
    "\n",
    "# Generate all permutations of the digits 1 through 9\n",
    "for perm in itertools.permutations(digits):\n",
    "    # Try different ways to split the permutation into multiplicand, multiplier, and product\n",
    "    # Case 1: 1-digit multiplicand, 4-digit multiplier, 4-digit product\n",
    "    m1 = int(''.join(map(str, perm[0:1])))\n",
    "    m2 = int(''.join(map(str, perm[1:5])))\n",
    "    product = int(''.join(map(str, perm[5:9])))\n",
    "    if m1 * m2 == product and is_pandigital(m1, m2, product):\n",
    "        unique_products.add(product)\n",
    "    \n",
    "    # Case 2: 2-digit multiplicand, 3-digit multiplier, 4-digit product\n",
    "    m1 = int(''.join(map(str, perm[0:2])))\n",
    "    m2 = int(''.join(map(str, perm[2:5])))\n",
    "    product = int(''.join(map(str, perm[5:9])))\n",
    "    if m1 * m2 == product and is_pandigital(m1, m2, product):\n",
    "        unique_products.add(product)\n",
    "\n",
    "# Calculate the sum of all unique products\n",
    "sum_of_products = sum(unique_products)\n",
    "\n",
    "# Output the result\n",
    "print(f\"Sum of all unique products is {sum_of_products}.\")"
   ]
  },
  {
   "cell_type": "code",
   "execution_count": 54,
   "id": "6f208723-9c32-465c-ba21-2535bba58058",
   "metadata": {},
   "outputs": [],
   "source": []
  }
 ],
 "metadata": {
  "kernelspec": {
   "display_name": "Python 3 (ipykernel)",
   "language": "python",
   "name": "python3"
  },
  "language_info": {
   "codemirror_mode": {
    "name": "ipython",
    "version": 3
   },
   "file_extension": ".py",
   "mimetype": "text/x-python",
   "name": "python",
   "nbconvert_exporter": "python",
   "pygments_lexer": "ipython3",
   "version": "3.11.9"
  }
 },
 "nbformat": 4,
 "nbformat_minor": 5
}
