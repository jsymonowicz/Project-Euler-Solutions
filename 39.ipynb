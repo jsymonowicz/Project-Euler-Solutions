{
 "cells": [
  {
   "cell_type": "markdown",
   "id": "6e6eaf0d-62d6-482c-9a07-53a3569663cd",
   "metadata": {},
   "source": [
    "# Integer Right Triangles"
   ]
  },
  {
   "cell_type": "markdown",
   "id": "6a4f4064-2abb-418d-8e23-6677d83a2911",
   "metadata": {},
   "source": [
    "## Problem 39"
   ]
  },
  {
   "cell_type": "markdown",
   "id": "fa1883d5-a944-44b0-859d-ee91c561f03d",
   "metadata": {},
   "source": [
    "If p is the perimeter of a right angle triangle with integral length sides, {a, b, c}, there are exactly three solutions for p=120.\n",
    "<center>{20, 48, 52}, {24, 45, 51}, {30, 40, 50}</center>\n",
    "For which value of $p \\le 1000$, is the number of solutions maximised?"
   ]
  },
  {
   "cell_type": "code",
   "execution_count": 7,
   "id": "9dbb15ab-d242-4d01-af2d-577588e6fc26",
   "metadata": {},
   "outputs": [],
   "source": [
    "# Check if lengths a, b, c for a right triangle\n",
    "def is_right_triangle (a,b,c):\n",
    "    return a**2 + (b**2) == c**2"
   ]
  },
  {
   "cell_type": "code",
   "execution_count": 39,
   "id": "2a04efde-6d54-4817-9245-0155310c03cf",
   "metadata": {},
   "outputs": [],
   "source": [
    "p_vals = {}\n",
    "for p in range(3, 1001):\n",
    "    length_max = p // 2 - 1\n",
    "    p_comb = 0\n",
    "    for a in range(1, length_max):\n",
    "        for b in range(a + 1, length_max):  # Ensure b > a to avoid duplicates\n",
    "            c = p - (a + b)\n",
    "            if is_right_triangle(a, b, c):\n",
    "                p_comb += 1\n",
    "    if p_comb != 0:\n",
    "        p_vals[p] = p_comb"
   ]
  },
  {
   "cell_type": "code",
   "execution_count": 40,
   "id": "78246c05-bee4-41d3-8e96-82fc731b58b3",
   "metadata": {},
   "outputs": [
    {
     "name": "stdout",
     "output_type": "stream",
     "text": [
      "840\n"
     ]
    }
   ],
   "source": [
    "#Print out key for which value is greatest\n",
    "max_key = max(p_vals, key=p_vals.get)\n",
    "print(max_key)"
   ]
  }
 ],
 "metadata": {
  "kernelspec": {
   "display_name": "Python 3 (ipykernel)",
   "language": "python",
   "name": "python3"
  },
  "language_info": {
   "codemirror_mode": {
    "name": "ipython",
    "version": 3
   },
   "file_extension": ".py",
   "mimetype": "text/x-python",
   "name": "python",
   "nbconvert_exporter": "python",
   "pygments_lexer": "ipython3",
   "version": "3.11.9"
  }
 },
 "nbformat": 4,
 "nbformat_minor": 5
}
