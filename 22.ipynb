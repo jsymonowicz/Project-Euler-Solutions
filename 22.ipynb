{
 "cells": [
  {
   "cell_type": "markdown",
   "id": "100e7c0d-b02a-4a32-bd94-73fd03b37610",
   "metadata": {},
   "source": [
    "# Problem 22"
   ]
  },
  {
   "cell_type": "markdown",
   "id": "83abf044-86ce-4e19-b1b8-c887b9870190",
   "metadata": {},
   "source": [
    "Using names.txt, a 46K text file containing over five-thousand first names, begin by sorting it into alphabetical order. Then working out the alphabetical value for each name, multiply this value by its alphabetical position in the list to obtain a name score.\n",
    "\n",
    "For example, when the list is sorted into alphabetical order, COLIN, which is worth **3 + 15 + 12 + 9 + 14 = 53**\n",
    ", is th **938**th h name in the list. So, COLIN would obtain a score  **938 x 53 = 49714** \r\n",
    ".\r\n",
    "\r\n",
    "What is the total of all the name scores in the file?"
   ]
  },
  {
   "cell_type": "markdown",
   "id": "012505de-89b5-4f00-a591-45f71c19c707",
   "metadata": {},
   "source": [
    "## Solution 1 - using Pandas"
   ]
  },
  {
   "cell_type": "code",
   "execution_count": 1,
   "id": "10444014-59c9-47e0-b9b4-573c59603c47",
   "metadata": {},
   "outputs": [],
   "source": [
    "import pandas as pd"
   ]
  },
  {
   "cell_type": "code",
   "execution_count": 2,
   "id": "083ec3c9-e79e-4967-894c-cc43b17cc08b",
   "metadata": {},
   "outputs": [],
   "source": [
    "# Load names into a dataframe\n",
    "df_names = pd.read_csv('0022_names.txt',  delimiter=',')\n",
    "df = pd.DataFrame((name for name in df_names), columns=['Name'])"
   ]
  },
  {
   "cell_type": "code",
   "execution_count": 3,
   "id": "2798aeaa-b535-4a30-b56f-a78dfe148f69",
   "metadata": {},
   "outputs": [
    {
     "data": {
      "text/html": [
       "<div>\n",
       "<style scoped>\n",
       "    .dataframe tbody tr th:only-of-type {\n",
       "        vertical-align: middle;\n",
       "    }\n",
       "\n",
       "    .dataframe tbody tr th {\n",
       "        vertical-align: top;\n",
       "    }\n",
       "\n",
       "    .dataframe thead th {\n",
       "        text-align: right;\n",
       "    }\n",
       "</style>\n",
       "<table border=\"1\" class=\"dataframe\">\n",
       "  <thead>\n",
       "    <tr style=\"text-align: right;\">\n",
       "      <th></th>\n",
       "      <th>Name</th>\n",
       "    </tr>\n",
       "  </thead>\n",
       "  <tbody>\n",
       "    <tr>\n",
       "      <th>1</th>\n",
       "      <td>AARON</td>\n",
       "    </tr>\n",
       "    <tr>\n",
       "      <th>2</th>\n",
       "      <td>ABBEY</td>\n",
       "    </tr>\n",
       "    <tr>\n",
       "      <th>3</th>\n",
       "      <td>ABBIE</td>\n",
       "    </tr>\n",
       "    <tr>\n",
       "      <th>4</th>\n",
       "      <td>ABBY</td>\n",
       "    </tr>\n",
       "    <tr>\n",
       "      <th>5</th>\n",
       "      <td>ABDUL</td>\n",
       "    </tr>\n",
       "  </tbody>\n",
       "</table>\n",
       "</div>"
      ],
      "text/plain": [
       "    Name\n",
       "1  AARON\n",
       "2  ABBEY\n",
       "3  ABBIE\n",
       "4   ABBY\n",
       "5  ABDUL"
      ]
     },
     "execution_count": 3,
     "metadata": {},
     "output_type": "execute_result"
    }
   ],
   "source": [
    "# Sort alphabetically\n",
    "df = df.sort_values(by='Name', ascending=True).reset_index(drop=True)\n",
    "# Change indexing so that it starts from 1:\n",
    "df.index = range(1, len(df) + 1)\n",
    "# Display\n",
    "df.head()"
   ]
  },
  {
   "cell_type": "code",
   "execution_count": 6,
   "id": "8dfd2ce3-8d3b-42db-ae32-ff3552df62d4",
   "metadata": {},
   "outputs": [],
   "source": [
    "# Precompute letter values (assuming English alphabet)\n",
    "letter_number = {chr(i): i - 64 for i in range(65, 91)}  # 'A' = 1, ..., 'Z' = 26"
   ]
  },
  {
   "cell_type": "code",
   "execution_count": 7,
   "id": "0079abae-d842-4500-bb3e-567137c74421",
   "metadata": {},
   "outputs": [],
   "source": [
    "# Function to calculate name score\n",
    "def name_score(name):  \n",
    "    # Find row number (1-based index)\n",
    "    row_number = df.index[df['Name'] == name][0]\n",
    "    # Calculate letters score\n",
    "    letter_score = sum(letter_number.get(letter, 0) for letter in name)\n",
    "    # Calculate name score\n",
    "    return letter_score * row_number"
   ]
  },
  {
   "cell_type": "code",
   "execution_count": 8,
   "id": "a555d4cf-f354-4b0c-87b2-04a7f17913e9",
   "metadata": {},
   "outputs": [],
   "source": [
    "name_scores = {}\n",
    "for name in df[\"Name\"]:\n",
    "    score = name_score(name)\n",
    "    name_scores[name] = score"
   ]
  },
  {
   "cell_type": "code",
   "execution_count": 9,
   "id": "558ed283-315a-4c4b-8e6a-0dfe45bf3323",
   "metadata": {},
   "outputs": [
    {
     "name": "stdout",
     "output_type": "stream",
     "text": [
      "[('AARON', 49), ('ABBEY', 70), ('ABBIE', 57), ('ABBY', 120), ('ABDUL', 200), ('ABE', 48), ('ABEL', 140), ('ABIGAIL', 328), ('ABRAHAM', 396), ('ABRAM', 350)]\n"
     ]
    }
   ],
   "source": [
    "# Display results\n",
    "# Define number of first records:\n",
    "n = 10\n",
    "first_items = list(name_scores.items())[:n]\n",
    "print(first_items)"
   ]
  },
  {
   "cell_type": "code",
   "execution_count": 10,
   "id": "2012fc2a-dabd-4b95-9c33-9af99081b3c0",
   "metadata": {},
   "outputs": [
    {
     "name": "stdout",
     "output_type": "stream",
     "text": [
      "871198282\n"
     ]
    }
   ],
   "source": [
    "# Sum all values in the dictionary\n",
    "total_sum = sum(name_scores.values())\n",
    "print(total_sum)"
   ]
  },
  {
   "cell_type": "markdown",
   "id": "75b5acbb-75ec-41ed-8260-5dcc700b8d0a",
   "metadata": {},
   "source": [
    "## Solution 2 - no external libraries"
   ]
  },
  {
   "cell_type": "code",
   "execution_count": 33,
   "id": "a208248f-8694-4f9c-82f2-f53eec372773",
   "metadata": {},
   "outputs": [],
   "source": [
    "# Import names from the file\n",
    "file = open('0022_names.txt', 'r')\n",
    "lines = file.read()"
   ]
  },
  {
   "cell_type": "code",
   "execution_count": 34,
   "id": "543bb43f-c3bc-474a-b58a-9d1d57326693",
   "metadata": {},
   "outputs": [
    {
     "name": "stdout",
     "output_type": "stream",
     "text": [
      "['AARON', 'ABBEY', 'ABBIE', 'ABBY', 'ABDUL']\n"
     ]
    }
   ],
   "source": [
    "# Clean the input\n",
    "# Remove \"\n",
    "lines = lines.replace('\"', '')\n",
    "# Split a string into a list\n",
    "names = lines.split(',')\n",
    "# Sort names alphabetically\n",
    "names.sort()\n",
    "# Print first 5 records\n",
    "print(names[0:5])"
   ]
  },
  {
   "cell_type": "code",
   "execution_count": 35,
   "id": "171cf739-d23e-4c43-ac66-aa66d8c2d16c",
   "metadata": {},
   "outputs": [
    {
     "name": "stdout",
     "output_type": "stream",
     "text": [
      "{'A': 1, 'B': 2, 'C': 3, 'D': 4, 'E': 5, 'F': 6, 'G': 7, 'H': 8, 'I': 9, 'J': 10, 'K': 11, 'L': 12, 'M': 13, 'N': 14, 'O': 15, 'P': 16, 'Q': 17, 'R': 18, 'S': 19, 'T': 20, 'U': 21, 'V': 22, 'W': 23, 'X': 24, 'Y': 25, 'Z': 26}\n"
     ]
    }
   ],
   "source": [
    "# Precompute letter values (assuming English alphabet)\n",
    "letter_number = {chr(i): i - 64 for i in range(65, 91)}  # 'A' = 1, ..., 'Z' = 26\n",
    "print(letter_number)"
   ]
  },
  {
   "cell_type": "code",
   "execution_count": 36,
   "id": "8daba6be-61e5-4091-9acf-deb6c914a5af",
   "metadata": {},
   "outputs": [],
   "source": [
    "# Function to calculate name score\n",
    "def name_score(name, names):  \n",
    "    # Find position score (1-based index)\n",
    "    position_score = names.index(name) + 1\n",
    "    # Calculate letters score using a generator\n",
    "    letter_score = sum(letter_number.get(letter, 0) for letter in name)\n",
    "    # Calculate name score\n",
    "    return letter_score * position_score"
   ]
  },
  {
   "cell_type": "code",
   "execution_count": 37,
   "id": "a2e86710-3645-477f-ad15-67c65f6ad562",
   "metadata": {},
   "outputs": [
    {
     "name": "stdout",
     "output_type": "stream",
     "text": [
      "871198282\n"
     ]
    }
   ],
   "source": [
    "total_score = 0\n",
    "for name in names:\n",
    "    score = name_score(name, names)\n",
    "    total_score += score\n",
    "print(total_score)"
   ]
  }
 ],
 "metadata": {
  "kernelspec": {
   "display_name": "Python 3 (ipykernel)",
   "language": "python",
   "name": "python3"
  },
  "language_info": {
   "codemirror_mode": {
    "name": "ipython",
    "version": 3
   },
   "file_extension": ".py",
   "mimetype": "text/x-python",
   "name": "python",
   "nbconvert_exporter": "python",
   "pygments_lexer": "ipython3",
   "version": "3.11.9"
  }
 },
 "nbformat": 4,
 "nbformat_minor": 5
}
