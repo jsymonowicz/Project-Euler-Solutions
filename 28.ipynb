{
 "cells": [
  {
   "cell_type": "markdown",
   "id": "3052ceb5-e634-4490-9aad-1df4498ab15f",
   "metadata": {},
   "source": [
    "# Number Spiral Diagonals"
   ]
  },
  {
   "cell_type": "markdown",
   "id": "74f66484-2de6-4553-907e-5e29a2523fab",
   "metadata": {},
   "source": [
    "## Problem 28"
   ]
  },
  {
   "cell_type": "markdown",
   "id": "834e71bf-ce74-4ee7-9f44-5cb94d21610e",
   "metadata": {},
   "source": [
    "Starting with the number 1 and moving to the right in a clockwise direction a 5 by 5 spiral is formed as follows:\n",
    "\n",
    "<div style=\"text-align: center;\">\n",
    "    <img src=\"pic1.jpg\"\" alt=\"k2\"width=\"100\"/>\n",
    "</div>\n",
    "\n",
    "It can be verified that the sum of the numbers on the diagonals is 101.\n",
    "What is the sum of the numbers on the diagonals in a 1001 by 1001 spiral formed in the same way?"
   ]
  },
  {
   "cell_type": "code",
   "execution_count": 59,
   "id": "9285f2f9-bb9c-4f16-add5-3c6ce5b24128",
   "metadata": {},
   "outputs": [],
   "source": [
    "#Function for generating spiral matrix\n",
    "def generate_spiral_matrix(n):\n",
    "    # Create an empty matrix of size n x n\n",
    "    matrix = [[0] * n for _ in range(n)]\n",
    "    \n",
    "    # Initialize variables to track the boundaries of the matrix\n",
    "    left, right = 0, n - 1\n",
    "    top, bottom = 0, n - 1\n",
    "    \n",
    "    # Start filling the matrix with numbers starting from nxn\n",
    "    num = n * n\n",
    "    \n",
    "    while left <= right and top <= bottom:\n",
    "        # Fill the top row\n",
    "        for i in range(right, left -1, -1):\n",
    "            matrix[top][i] = num\n",
    "            num -= 1\n",
    "        top += 1\n",
    "        \n",
    "        # Fill the left column\n",
    "        if left <= right:\n",
    "            for i in range(top, bottom + 1):\n",
    "                matrix[i][left] = num\n",
    "                num -= 1\n",
    "            left += 1\n",
    "        \n",
    "        # Fill the bottom row\n",
    "        if top <= bottom:\n",
    "            for i in range(left, right + 1):\n",
    "                matrix[bottom][i] = num\n",
    "                num -= 1\n",
    "            bottom -= 1\n",
    "            \n",
    "        # Fill the right column\n",
    "        for i in range(bottom, top - 1, -1):\n",
    "            matrix[i][right] = num\n",
    "            num -= 1\n",
    "        right -= 1\n",
    "\n",
    "    return matrix"
   ]
  },
  {
   "cell_type": "code",
   "execution_count": 61,
   "id": "383ff513-3e3a-49d3-8dfa-4dce30d0eb50",
   "metadata": {},
   "outputs": [],
   "source": [
    "# Function calculating a sum of the numbers on the diagonals of spiral matrix\n",
    "def diagonals_sum(dim):\n",
    "    \n",
    "    # Generate spiral matrix\n",
    "    spiral_matrix = generate_spiral_matrix(dim)\n",
    "    \n",
    "    # Calculate the sum\n",
    "    diagonals_sum = 0\n",
    "    for i in range (0, dim):\n",
    "        diagonals_sum += spiral_matrix[i][i]\n",
    "        diagonals_sum += spiral_matrix[i][dim - 1 - i]\n",
    "        \n",
    "    # Subtract middle element\n",
    "    n = dim // 2\n",
    "    diagonals_sum -= spiral_matrix[n][n]\n",
    "    \n",
    "    return diagonals_sum"
   ]
  },
  {
   "cell_type": "code",
   "execution_count": 62,
   "id": "c7202c8d-ac86-4a45-b5f4-f43232b53c88",
   "metadata": {},
   "outputs": [
    {
     "name": "stdout",
     "output_type": "stream",
     "text": [
      "669171001\n"
     ]
    }
   ],
   "source": [
    "#Print out the result\n",
    "print(diagonals_sum(1001))"
   ]
  },
  {
   "cell_type": "code",
   "execution_count": null,
   "id": "9d61f284-d349-4882-bc7e-c2721ee5926f",
   "metadata": {},
   "outputs": [],
   "source": []
  }
 ],
 "metadata": {
  "kernelspec": {
   "display_name": "Python 3 (ipykernel)",
   "language": "python",
   "name": "python3"
  },
  "language_info": {
   "codemirror_mode": {
    "name": "ipython",
    "version": 3
   },
   "file_extension": ".py",
   "mimetype": "text/x-python",
   "name": "python",
   "nbconvert_exporter": "python",
   "pygments_lexer": "ipython3",
   "version": "3.11.9"
  }
 },
 "nbformat": 4,
 "nbformat_minor": 5
}
