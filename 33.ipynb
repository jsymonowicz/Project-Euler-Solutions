{
 "cells": [
  {
   "cell_type": "markdown",
   "id": "89d5a5ae-39aa-40cd-bf9b-eb1841da04a2",
   "metadata": {},
   "source": [
    "# Digit Cancelling Fractions"
   ]
  },
  {
   "cell_type": "markdown",
   "id": "017c7a92-0ea8-41e7-928b-ff8a3163c293",
   "metadata": {},
   "source": [
    "## Problem 33"
   ]
  },
  {
   "cell_type": "markdown",
   "id": "7f05660c-35d9-4437-b3a8-884fcdf5a836",
   "metadata": {},
   "source": [
    "The fraction 49/98 is a curious fraction, as an inexperienced mathematician in attempting to simplify it may incorrectly believe that 49/98 = 4/8, which is correct, is obtained by cancelling the 9s.\n",
    "\n",
    "We shall consider fractions like, 30/50 = 3/5, to be trivial examples.\n",
    "\n",
    "There are exactly four non-trivial examples of this type of fraction, less than one in value, and containing two digits in the numerator and denominator.\n",
    "\n",
    "If the product of these four fractions is given in its lowest common terms, find the value of the denominator."
   ]
  },
  {
   "cell_type": "code",
   "execution_count": 57,
   "id": "837b419e-945b-432e-88e7-6a816d8fe300",
   "metadata": {},
   "outputs": [
    {
     "name": "stdout",
     "output_type": "stream",
     "text": [
      "[(16, 64), (26, 65), (19, 95), (49, 98)]\n"
     ]
    }
   ],
   "source": [
    "# Generate all 2-digit numbers that do not end with 0 and do not consist of two same digits\n",
    "two_digit_nums = [i for i in range(12, 100) if i % 10 != 0 and i // 10 != i % 10]\n",
    "\n",
    "# Find four non-trivial examples of the fractions\n",
    "fractions = [\n",
    "    (digit * 10 + num // 10, num)\n",
    "    for num in two_digit_nums\n",
    "    for digit in range(1, 10)\n",
    "    if num / (digit * 10 + num // 10) == num % 10 / digit # Check if fraction = simplified fraction\n",
    "]\n",
    "\n",
    "# Print result\n",
    "print(fractions)"
   ]
  },
  {
   "cell_type": "code",
   "execution_count": 58,
   "id": "8089b70c-1a5f-4f63-b8eb-da61d61346be",
   "metadata": {},
   "outputs": [
    {
     "name": "stdout",
     "output_type": "stream",
     "text": [
      "387296 38729600\n"
     ]
    }
   ],
   "source": [
    "# Find product of numerators and denominators using reduce\n",
    "from functools import reduce\n",
    "\n",
    "numerator = reduce(lambda x, y: x * y, (n for n, _ in fractions))\n",
    "denominator = reduce(lambda x, y: x * y, (d for _, d in fractions))\n",
    "print(numerator, denominator)"
   ]
  },
  {
   "cell_type": "code",
   "execution_count": 59,
   "id": "cdc54b55-b94f-4603-bed0-0c20bcdbb1c3",
   "metadata": {},
   "outputs": [
    {
     "name": "stdout",
     "output_type": "stream",
     "text": [
      "100\n"
     ]
    }
   ],
   "source": [
    "# Find the greatest common divisor (GCD) using Euclid's Algorithm.\n",
    "def gcd(a, b):\n",
    "    while b != 0:\n",
    "        a, b = b, a % b\n",
    "    return a\n",
    "\n",
    "wanted_gcd = gcd(numerator, denominator)\n",
    "print(denominator//wanted_gcd)"
   ]
  },
  {
   "cell_type": "code",
   "execution_count": null,
   "id": "f129001b-de63-47cb-9d6e-c26e86a7c4ec",
   "metadata": {},
   "outputs": [],
   "source": []
  }
 ],
 "metadata": {
  "kernelspec": {
   "display_name": "Python 3 (ipykernel)",
   "language": "python",
   "name": "python3"
  },
  "language_info": {
   "codemirror_mode": {
    "name": "ipython",
    "version": 3
   },
   "file_extension": ".py",
   "mimetype": "text/x-python",
   "name": "python",
   "nbconvert_exporter": "python",
   "pygments_lexer": "ipython3",
   "version": "3.11.9"
  }
 },
 "nbformat": 4,
 "nbformat_minor": 5
}
