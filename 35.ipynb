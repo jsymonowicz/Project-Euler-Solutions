{
 "cells": [
  {
   "cell_type": "markdown",
   "id": "789616d6-e25f-4587-8867-b07927bad5ab",
   "metadata": {},
   "source": [
    "# Circular Primes"
   ]
  },
  {
   "cell_type": "markdown",
   "id": "bfa35260-0419-400d-9432-3b817e30ca1a",
   "metadata": {},
   "source": [
    "## Problem 35"
   ]
  },
  {
   "cell_type": "markdown",
   "id": "c27449c6-9577-4e2a-825f-c5bc0fdc397f",
   "metadata": {},
   "source": [
    "The number, 197, is called a **circular prime** because all rotations of the digits: 197, 971, and 719, are themselves prime.\n",
    "There are thirteen such primes below 100: 2, 3, 5, 7, 11, 13, 17, 31, 37, 71, 73, 79, and 97.\n",
    "How many circular primes are there below one million?"
   ]
  },
  {
   "cell_type": "code",
   "execution_count": 1,
   "id": "19318962-bbd1-46d8-ac80-7623fd5d2c44",
   "metadata": {},
   "outputs": [],
   "source": [
    "import math\n",
    "\n",
    "# Primality check function with cache\n",
    "def is_prime(n, prime_cache):\n",
    "    if n in prime_cache:\n",
    "        return prime_cache[n]\n",
    "    \n",
    "    if n < 2:\n",
    "        prime_cache[n] = False\n",
    "        return False\n",
    "    \n",
    "    for i in range(2, int(math.sqrt(n)) + 1):\n",
    "        if n % i == 0:\n",
    "            prime_cache[n] = False\n",
    "            return False\n",
    "    \n",
    "    prime_cache[n] = True\n",
    "    return True"
   ]
  },
  {
   "cell_type": "code",
   "execution_count": 2,
   "id": "960530d6-7bda-4319-aad0-b31ed075e152",
   "metadata": {},
   "outputs": [],
   "source": [
    "# Function to generate circular permutations of a number\n",
    "def circular_permutations(n):\n",
    "    str_n = str(n)\n",
    "    return {int(str_n[i:] + str_n[:i]) for i in range(len(str_n))}"
   ]
  },
  {
   "cell_type": "code",
   "execution_count": 5,
   "id": "f0c432de-21a4-428c-a0be-8ee85c535d4a",
   "metadata": {},
   "outputs": [],
   "source": [
    "# Optimized circular prime check\n",
    "def find_circular_primes(limit):\n",
    "    circular_primes = set()\n",
    "    prime_cache = {}\n",
    "\n",
    "    for num in range(2, limit):\n",
    "        # Skip numbers with even digits or 5 (except 2 and 5 themselves)\n",
    "        # If a number contains an even digit (other than 2), then one of its rotations will be divisible by 2, so not prime\n",
    "        # If a number contains 5, one of its rotations will be divisible by 5, so not prime\n",
    "        if num > 10 and any(d in str(num) for d in '024568'):\n",
    "            continue\n",
    "        \n",
    "        if is_prime(num, prime_cache):\n",
    "            # Get all circular permutations of the number\n",
    "            all_perms = circular_permutations(num)\n",
    "            \n",
    "            # Check if all permutations are prime\n",
    "            if all(is_prime(perm, prime_cache) for perm in all_perms):\n",
    "                circular_primes.update(all_perms)\n",
    "    \n",
    "    return circular_primes"
   ]
  },
  {
   "cell_type": "code",
   "execution_count": 6,
   "id": "645433ff-78f4-4f40-829f-a08bdae9d91b",
   "metadata": {},
   "outputs": [
    {
     "name": "stdout",
     "output_type": "stream",
     "text": [
      "55\n"
     ]
    }
   ],
   "source": [
    "# Find solution\n",
    "circular_primes = find_circular_primes(1000000)\n",
    "# Print result\n",
    "print(len(circular_primes))"
   ]
  },
  {
   "cell_type": "code",
   "execution_count": null,
   "id": "422b07f7-14aa-40dd-a930-e231e6481a45",
   "metadata": {},
   "outputs": [],
   "source": []
  }
 ],
 "metadata": {
  "kernelspec": {
   "display_name": "Python 3 (ipykernel)",
   "language": "python",
   "name": "python3"
  },
  "language_info": {
   "codemirror_mode": {
    "name": "ipython",
    "version": 3
   },
   "file_extension": ".py",
   "mimetype": "text/x-python",
   "name": "python",
   "nbconvert_exporter": "python",
   "pygments_lexer": "ipython3",
   "version": "3.11.9"
  }
 },
 "nbformat": 4,
 "nbformat_minor": 5
}
